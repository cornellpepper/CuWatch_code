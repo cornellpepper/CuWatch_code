{
 "cells": [
  {
   "cell_type": "code",
   "execution_count": null,
   "metadata": {},
   "outputs": [],
   "source": [
    "import pandas as pd\n",
    "import numpy as np\n",
    "\n",
    "# hidpi figures\n",
    "import matplotlib.pyplot as plt\n",
    "import matplotlib as mpl\n",
    "mpl.rcParams['figure.dpi'] = 250"
   ]
  },
  {
   "cell_type": "markdown",
   "metadata": {},
   "source": [
    "The data file is expected to have a format like this:\n",
    "```\n",
    "% head muon_data_20241101_1806.csv\n",
    "baseline,stddev,threshold,reset_threshold,run_start_time,is_leader\n",
    "775.0, 9.3, 975, 825, 2024-11-01T18:06:41.482495-04:00, 1\n",
    "Muon Count,ADC,temperature_ADC,dt,t,t_wait,coinc\n",
    "1, 7089, 15171, 2, 20751, 76, 0\n",
    "2, 5313, 15171, 240, 20991, 78, 0\n",
    "3, 1024, 15171, 580, 21571, 93, 0\n",
    "```\n",
    "Metadata about the run in the first two lines, then the header for the actual data, followed by the data.\n",
    "\n",
    "First, read in the first two rows of the CSV file: they contain metadata about the run itself. Start time, thresholds, if the device is the 'leader'.\n",
    "\n",
    "Put the file name in here."
   ]
  },
  {
   "cell_type": "code",
   "execution_count": null,
   "metadata": {},
   "outputs": [],
   "source": [
    "#filename='muon_data_20241101_1806.csv'\n",
    "filename='/Users/wittich/Downloads/muon_data_20241204_1104.csv\n",
    "\n",
    "mdf = pd.read_csv(filename, nrows=1,sep=',',engine='python')\n",
    "print(mdf.head())\n",
    "\n",
    "mdf.keys()\n",
    "run_start_time = mdf['run_start_time'][0]\n",
    "print(\"run started at\", run_start_time)"
   ]
  },
  {
   "cell_type": "markdown",
   "metadata": {},
   "source": [
    "Skipping the first two rows which contain the metadata,read in the rest of the CSV file. \n",
    "Concert the two ADC counts to volts and temperature, respectively."
   ]
  },
  {
   "cell_type": "code",
   "execution_count": null,
   "metadata": {},
   "outputs": [],
   "source": [
    "df = pd.read_csv(filename,sep=',',engine='python', skiprows=2)\n",
    "print(df.keys())\n",
    "if 'Muon Count' in df.keys():\n",
    "    df=df.drop(columns=['Muon Count'])\n",
    "print(len(df))\n",
    "df['V'] = df['ADC']*3.3/(2**16-1)\n",
    "## Convert 16-bit ADC value to degrees C for a TMP36 temperature sensor -- Rev2\n",
    "#df['TempC'] = (df['temperature_ADC']*3.3/65536)/.01 + (25-75)\n",
    "# Rev 3 -- TMP235 sensor\n",
    "# data sheet page 8, T_A = (V_OUT - V_OFFSET)/T_C + T_INFL\n",
    "# for the TMP235, V_OUT = T_C = 10 mV/degC and V_OFFSET = 500 mV, for \n",
    "# the temperature range -40C to 100C. T_INFL = 0\n",
    "T_INFL = 0.\n",
    "T_C = 0.01 # 10 mV/degC\n",
    "V_OFFSET = 0.5 # 500 mV\n",
    "df['TempC'] = ((df['temperature_ADC']*3.3/65536)  - V_OFFSET)/T_C + T_INFL\n",
    "df.head()"
   ]
  },
  {
   "cell_type": "markdown",
   "metadata": {},
   "source": [
    "We now use the metadata to put some sort of absolute time into the data file. "
   ]
  },
  {
   "cell_type": "code",
   "execution_count": null,
   "metadata": {},
   "outputs": [],
   "source": [
    "# convert the timestamp to use it to turn the ms times into wall clock times. Likely not very precise -- within a second --  but shruggie emoji\n",
    "tstart = pd.to_datetime(run_start_time, format='ISO8601')\n",
    "print(tstart)\n",
    "# now remove the offset and set the t variable to start at 0 for the first line of the table\n",
    "df['t'] = df['t'] - df['t'].iloc[0]\n"
   ]
  },
  {
   "cell_type": "code",
   "execution_count": null,
   "metadata": {},
   "outputs": [],
   "source": [
    "if 'tstart' in locals() and tstart is not None:\n",
    "    df['time'] = pd.to_datetime(df['t'], unit='ms', origin=tstart.tz_localize(None))\n",
    "else:\n",
    "    df['time'] = pd.to_datetime(df['t'], unit='ms')\n",
    "df.set_index('time',inplace=True)\n",
    "# drop the dt column, no longer needed\n",
    "df.drop(columns='dt',inplace=True)\n",
    "df.head()"
   ]
  },
  {
   "cell_type": "code",
   "execution_count": null,
   "metadata": {},
   "outputs": [],
   "source": [
    "# add a column for the coincidence counter, if it doesn't exist (for older data files)\n",
    "if 'coinc' not in df.columns:\n",
    "    df['coinc'] = 0"
   ]
  },
  {
   "cell_type": "code",
   "execution_count": null,
   "metadata": {},
   "outputs": [],
   "source": [
    "df.keys()"
   ]
  },
  {
   "cell_type": "markdown",
   "metadata": {},
   "source": [
    "Look at the correlation between t_wait and the measured threshold. "
   ]
  },
  {
   "cell_type": "code",
   "execution_count": null,
   "metadata": {},
   "outputs": [],
   "source": [
    "import matplotlib.colors as mcolors\n",
    "\n",
    "plt.figure(figsize=(10, 6))\n",
    "tedges = np.linspace(30.5, 100.5, 71)\n",
    "tedges = np.linspace(0.5, 100.5, 101)\n",
    "vedges = np.linspace(0, 3.3, 101)\n",
    "plt.hist2d(df['t_wait'], df['V'], bins=[tedges, vedges],   norm=mcolors.LogNorm())\n",
    "plt.colorbar(label='Counts (log scale)')\n",
    "plt.xlabel('$t_\\\\text{wait}$')\n",
    "plt.ylabel('V')\n",
    "plt.title('$t_\\\\text{wait}$ vs V')\n",
    "plt.show()"
   ]
  },
  {
   "cell_type": "markdown",
   "metadata": {},
   "source": [
    "# Create two different subsets of the full data file:\n",
    "## dfc\n",
    "This is the dataframe with a twait cut. this uses $t_{wait}$ as a proxy for the time it takes to return to baseline; should reject noise injected after the peak detector. Choose t_wait cut based on the plot above.\n",
    "\n",
    "Note that twait is odd: it starts at 100 and counts downward. so t_wait is 60 means the code waited 40 loop iterations (100-60).\n",
    "## dfcc \n",
    "This is the file with a coincidence requirement between two detectors. Should reject singles rate."
   ]
  },
  {
   "cell_type": "code",
   "execution_count": null,
   "metadata": {},
   "outputs": [],
   "source": [
    "cut = 60\n",
    "dfc = df[df['t_wait'] < cut].copy()\n",
    "df['V'].plot.hist(bins=100)\n",
    "dfc['V'].plot.hist(bins=100)\n",
    "plt.xlabel('V')\n",
    "plt.ylabel('Counts')\n",
    "plt.title(f'Histogram of V with and w/o t_wait < {cut}')\n",
    "plt.legend(['All data', f't_wait < {cut}'])\n",
    "total_entries = len(df)\n",
    "cut_entries = len(df[df['t_wait'] < cut])\n",
    "print(f'Total entries: {total_entries}, Entries with twait < {cut}: {cut_entries}')\n",
    "plt.text(0.95, 0.95, f'Total entries: {total_entries}\\nEntries with $t_\\\\text{{wait}}<$ {cut}: {cut_entries}', \n",
    "         horizontalalignment='right', verticalalignment='top', transform=plt.gca().transAxes, \n",
    "         bbox=dict(facecolor='white', alpha=0.5))\n",
    "plt.show()\n",
    "plt.savefig('V_hist.png')\n"
   ]
  },
  {
   "cell_type": "code",
   "execution_count": null,
   "metadata": {},
   "outputs": [],
   "source": [
    "dfcc = df[df['coinc'] >0].copy()\n",
    "df['V'].plot.hist(bins=100)\n",
    "dfcc['V'].plot.hist(bins=100, alpha=0.5)\n",
    "plt.xlabel('V')\n",
    "plt.ylabel('Counts')\n",
    "plt.title(f'Histogram of V with and w/o coincidences')\n",
    "plt.legend(['All data', f'w/coincidences'])\n",
    "total_entries = len(df)\n",
    "cut_entries = len(dfcc)\n",
    "print(f'Total entries: {total_entries}, Entries with coincidence: {cut_entries}')\n",
    "plt.text(0.95, 0.95, f'Total entries: {total_entries}\\nEntries with coincidence: {cut_entries}', \n",
    "         horizontalalignment='right', verticalalignment='top', transform=plt.gca().transAxes, \n",
    "         bbox=dict(facecolor='white', alpha=0.5))\n",
    "plt.show()\n",
    "plt.savefig('V_hist_coinc.png')"
   ]
  },
  {
   "cell_type": "code",
   "execution_count": null,
   "metadata": {},
   "outputs": [],
   "source": [
    "dfcc = df[df['coinc'] >0].copy()\n",
    "df['V'].plot.hist(bins=100)\n",
    "dfcc['V'].plot.hist(bins=100, alpha=0.5)\n",
    "plt.xlabel('V')\n",
    "plt.ylabel('Counts')\n",
    "plt.title(f'Measured voltages with and w/o coincidences')\n",
    "plt.legend(['All data', f'w/coincidences'])\n",
    "total_entries = len(df)\n",
    "cut_entries = len(dfcc)\n",
    "print(f'Total entries: {total_entries}, Entries with coincidence: {cut_entries}')\n",
    "plt.text(0.95, 0.95, f'Total entries: {total_entries}\\nEntries with coincidence: {cut_entries}', \n",
    "         horizontalalignment='right', verticalalignment='top', transform=plt.gca().transAxes, \n",
    "         bbox=dict(facecolor='white', alpha=0.5))\n",
    "# add an inset with the histogram of the coincidences\n",
    "axin = plt.axes([0.6, 0.33, 0.25, 0.25])\n",
    "dfcc['V'].plot.hist(bins=100, color='C1', ax=axin)\n",
    "plt.title('V with coincidences')\n",
    "plt.xlabel('measured ADC voltage [V]')\n",
    "plt.show()\n",
    "plt.savefig('V_hist_coinc_inset.png')"
   ]
  },
  {
   "cell_type": "markdown",
   "metadata": {},
   "source": [
    "Compare the two ways of rejecting noise. "
   ]
  },
  {
   "cell_type": "code",
   "execution_count": null,
   "metadata": {},
   "outputs": [],
   "source": [
    "dfc['V'].plot.hist(bins=100)\n",
    "dfcc['V'].plot.hist(bins=100, alpha=0.5)\n",
    "plt.xlabel('V')\n",
    "plt.ylabel('Counts')\n",
    "plt.legend([f't_wait < {cut}', 'coincidence'])\n",
    "plt.title(f'Histogram of V with t_wait < {cut} and coincidences compared')\n",
    "plt.savefig('V_hist_coinc_twait.png')"
   ]
  },
  {
   "cell_type": "code",
   "execution_count": null,
   "metadata": {},
   "outputs": [],
   "source": [
    "dfcc.plot.hist(y='V', bins=100, alpha=0.5, label='V')\n",
    "plt.title('Histogram of V with coincidences')\n",
    "ncount = len(dfcc)\n",
    "plt.text(0.95, 0.95, f'Number of entries: {ncount}', \n",
    "         horizontalalignment='right', verticalalignment='top', transform=plt.gca().transAxes, \n",
    "         bbox=dict(facecolor='white', alpha=0.5))"
   ]
  },
  {
   "cell_type": "code",
   "execution_count": null,
   "metadata": {},
   "outputs": [],
   "source": [
    "cut=65\n",
    "dfcc['V'].plot.hist(label='V', bins=100, range=(0, 3.3))\n",
    "dfcc[dfcc['t_wait']<cut]['V'].plot.hist(alpha=0.5, label=f'V with t_wait < {cut}', bins=100, range=(0, 3.3))\n",
    "plt.legend()\n",
    "\n",
    "plt.title('Pulse heights with coincidences, w/ and w/o $t_{wait}$ cut')\n",
    "ncount = len(dfcc)\n"
   ]
  },
  {
   "cell_type": "code",
   "execution_count": null,
   "metadata": {},
   "outputs": [],
   "source": [
    "plt.figure(figsize=(10, 6))\n",
    "tedges = np.linspace(30.5, 100.5, 71)\n",
    "vedges = np.linspace(0, 3.3, 101)\n",
    "plt.hist2d(dfcc['t_wait'], dfcc['V'], bins=[tedges, vedges],   norm=mcolors.LogNorm())\n",
    "#plt.hist2d(dfc['t_wait'], dfc['V'], bins=[tedges, vedges],   norm=mcolors.LogNorm(), alpha=0.5)\n",
    "plt.colorbar(label='Counts (log scale)')\n",
    "plt.xlabel('$t_\\\\text{wait}$')\n",
    "plt.ylabel('V')\n",
    "plt.title('$t_\\\\text{wait}$ vs V, with coincidences')\n",
    "plt.show()"
   ]
  },
  {
   "cell_type": "markdown",
   "metadata": {},
   "source": [
    "# Rate calculation\n",
    "Create a new dt column, now in seconds, to allow us to calculate the rate over time for coincidence and non-coincidence files."
   ]
  },
  {
   "cell_type": "code",
   "execution_count": null,
   "metadata": {},
   "outputs": [],
   "source": [
    "# create a new column with the time difference between entries, in seconds\n",
    "dfcc['dt'] = dfcc.index.to_series().diff().dt.total_seconds()\n",
    "\n",
    "\n",
    "# the original file had a dt column that was in microsenconds, so we need to convert that to seconds\n",
    "if 'dt' in df.keys():\n",
    "    df = df.drop(columns=['dt'])\n",
    "df['dt'] = df.index.to_series().diff().dt.total_seconds()\n"
   ]
  },
  {
   "cell_type": "code",
   "execution_count": null,
   "metadata": {},
   "outputs": [],
   "source": [
    "df['dt'].head()"
   ]
  },
  {
   "cell_type": "code",
   "execution_count": null,
   "metadata": {},
   "outputs": [],
   "source": [
    "# calculate the average rate from the file\n",
    "# the rate is the number of muons divided by the total time\n",
    "# the total time is the last time minus the first time\n",
    "total_time = (dfcc.index[-1]-dfcc.index[0]).total_seconds()\n",
    "rate_coinc = len(dfcc)/total_time\n",
    "print(total_time, rate_coinc)\n"
   ]
  },
  {
   "cell_type": "code",
   "execution_count": null,
   "metadata": {},
   "outputs": [],
   "source": [
    "# calculate the average rate from the file\n",
    "# the rate is the number of muons divided by the total time\n",
    "# the total time is the last time minus the first time\n",
    "total_time = (df.index[-1]-df.index[0]).total_seconds()\n",
    "rate = len(df)/total_time\n",
    "print(total_time, rate)\n"
   ]
  },
  {
   "cell_type": "code",
   "execution_count": null,
   "metadata": {},
   "outputs": [],
   "source": [
    "dfcc['dt'].plot.hist(bins=100)\n",
    "plt.xlabel('$\\Delta t$ [s]')\n",
    "plt.ylabel('Counts')\n",
    "plt.title('Time differences between entries, coincidence mode')\n",
    "mean_dt = dfcc['dt'].mean()\n",
    "plt.text(0.95, 0.85, f'Mean dt: {mean_dt:.2f}s', \n",
    "         horizontalalignment='right', verticalalignment='top', transform=plt.gca().transAxes, \n",
    "         bbox=dict(facecolor='white', alpha=0.5))"
   ]
  },
  {
   "cell_type": "code",
   "execution_count": null,
   "metadata": {},
   "outputs": [],
   "source": [
    "winsize=100\n",
    "df['rolling_avg_rate'] = 1./(df['dt'].rolling(window=winsize).mean())\n",
    "df['rolling_avg_rate'].tail()\n",
    "print(df['rolling_avg_rate'].head(100))\n",
    "df.dropna(inplace=True)\n",
    "df['rolling_avg_rate'].plot()\n",
    "# label y axis as Hz\n",
    "plt.ylabel('Rate (Hz)')\n",
    "plt.ylim(0,3)\n",
    "plt.grid()\n",
    "plt.title(f'Rolling average mean rate over {winsize} events, single')\n",
    "plt.text(0.95, 0.85, f'Average rate: {rate:.2f} Hz', \n",
    "         horizontalalignment='right', verticalalignment='top', transform=plt.gca().transAxes, \n",
    "         bbox=dict(facecolor='white', alpha=0.5))\n",
    "plt.legend()\n",
    "plt.savefig('rolling_avg_rate_single.png')\n"
   ]
  },
  {
   "cell_type": "code",
   "execution_count": null,
   "metadata": {},
   "outputs": [],
   "source": [
    "dfcc['rolling_avg_rate'] = 1./(dfcc['dt'].rolling(window=winsize).mean())\n",
    "dfcc['rolling_avg_rate'].plot()\n",
    "# label y axis as Hz\n",
    "plt.ylabel('Rate (Hz)')\n",
    "plt.ylim(0,.5)\n",
    "plt.grid()\n",
    "plt.title(f'Rolling average mean rate over {winsize} events')\n",
    "plt.text(0.95, 0.85, f'Average rate: {rate_coinc:.2f} Hz', \n",
    "         horizontalalignment='right', verticalalignment='top', transform=plt.gca().transAxes, \n",
    "         bbox=dict(facecolor='white', alpha=0.5))\n",
    "plt.savefig('rolling_avg_rate_coinc.png')\n"
   ]
  },
  {
   "cell_type": "code",
   "execution_count": null,
   "metadata": {},
   "outputs": [],
   "source": [
    "df['rolling_avg_rate'].plot(label='single')\n",
    "dfcc['rolling_avg_rate'].plot(label='coincidence')\n",
    "# label y axis as Hz\n",
    "plt.ylabel('Rate (Hz)')\n",
    "plt.ylim(0)\n",
    "plt.grid()\n",
    "plt.text(0.95, 0.25, f'Singles rate: {rate:.2f} Hz\\nCoincidence rate: {rate_coinc:.2f} Hz', \n",
    "         horizontalalignment='right', verticalalignment='center', transform=plt.gca().transAxes, \n",
    "         bbox=dict(facecolor='white', alpha=0.5))\n",
    "plt.legend()\n",
    "\n",
    "plt.title(f'Rolling average mean rate over {winsize} events')\n"
   ]
  },
  {
   "cell_type": "code",
   "execution_count": null,
   "metadata": {},
   "outputs": [],
   "source": [
    "df['TempC'].rolling(window=10).mean().plot()\n",
    "plt.title('Temperature vs time')"
   ]
  },
  {
   "cell_type": "code",
   "execution_count": null,
   "metadata": {},
   "outputs": [],
   "source": []
  }
 ],
 "metadata": {
  "kernelspec": {
   "display_name": "base",
   "language": "python",
   "name": "python3"
  },
  "language_info": {
   "codemirror_mode": {
    "name": "ipython",
    "version": 3
   },
   "file_extension": ".py",
   "mimetype": "text/x-python",
   "name": "python",
   "nbconvert_exporter": "python",
   "pygments_lexer": "ipython3",
   "version": "3.11.6"
  }
 },
 "nbformat": 4,
 "nbformat_minor": 4
}
